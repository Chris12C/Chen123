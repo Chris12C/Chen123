{
  "cells": [
    {
      "cell_type": "markdown",
      "metadata": {
        "id": "view-in-github",
        "colab_type": "text"
      },
      "source": [
        "<a href=\"https://colab.research.google.com/github/Chris12C/Chen123/blob/main/GANs_for_bubble_data_expasion.ipynb\" target=\"_parent\"><img src=\"https://colab.research.google.com/assets/colab-badge.svg\" alt=\"Open In Colab\"/></a>"
      ]
    },
    {
      "cell_type": "markdown",
      "metadata": {
        "id": "upIxtmmWHoUV"
      },
      "source": [
        "# Generative Adversarial Networks for Bubble Database Expansion\n",
        "\n",
        "In this notebook, we build a pair of GANs.\n",
        "- The dataset is a dataset of 3x3 black and grayscale images with blue base, where the images we want to generate are backwards diagonals \n",
        "- The goal for the GANs is to expand the database of images.\n",
        "- Each image in this condition refers to a condition of bubble behavior in the pacific flow field.\n",
        "- With this GANs we can generate more data of bubble behavior in the flow to expand the dataset for further nueral network training."
      ]
    },
    {
      "cell_type": "markdown",
      "metadata": {
        "id": "Qd-pJZXMHoUY"
      },
      "source": [
        "### Imports"
      ]
    },
    {
      "cell_type": "code",
      "execution_count": null,
      "metadata": {
        "id": "n6UmKls6HoUY"
      },
      "outputs": [],
      "source": [
        "# Imports\n",
        "\n",
        "import numpy as np\n",
        "from numpy import random\n",
        "from matplotlib import pyplot as plt\n",
        "%matplotlib inline"
      ]
    },
    {
      "cell_type": "markdown",
      "metadata": {
        "id": "bJRNiVCxHoUZ"
      },
      "source": [
        "### Plotting function"
      ]
    },
    {
      "cell_type": "code",
      "execution_count": null,
      "metadata": {
        "id": "s7KsYLv-HoUZ"
      },
      "outputs": [],
      "source": [
        "# Drawing function\n",
        "\n",
        "def view_samples(samples, m, n):\n",
        "    fig, axes = plt.subplots(figsize=(10, 10), nrows=m, ncols=n, sharey=True, sharex=True)\n",
        "    for ax, img in zip(axes.flatten(), samples):\n",
        "        ax.xaxis.set_visible(False)\n",
        "        ax.yaxis.set_visible(False)\n",
        "        im = ax.imshow(1-img.reshape((3,3)), cmap='Blues_r')  \n",
        "    return fig, axes"
      ]
    },
    {
      "cell_type": "markdown",
      "metadata": {
        "id": "gZLkgupcHoUa"
      },
      "source": [
        "# Examples of faces\n",
        "\n",
        "In the video, we've defined the faces as backwards diagonals. Here are some examples."
      ]
    },
    {
      "cell_type": "code",
      "execution_count": null,
      "metadata": {
        "id": "I67POQw_HoUa",
        "outputId": "659d53e0-7fb0-4bc8-c77d-16991f021054"
      },
      "outputs": [
        {
          "data": {
            "image/png": "[encoded data removed]",
            "text/plain": [
              "<Figure size 720x720 with 25 Axes>"
            ]
          },
          "metadata": {
            "needs_background": "light"
          },
          "output_type": "display_data"
        }
      ],
      "source": [
        "# Examples of faces\n",
        "faces = [np.array([0.85,0.813,0.5,0.5,0.1,0.403,0.5,0,0]),\n",
        "         np.array([0.9,0.813,0.5,0.5,0.1,0.126,0.1,0,0]),\n",
        "         np.array([1,0.813,0.5,0.5,0.1,0.317,0.5,0,0]),\n",
        "         np.array([0.25,0.406,0.5,0.5,0.5,0.306,0.1,0,0]),\n",
        "         np.array([0.2,0.329,0.5,0.5,0,0.464,0.5,0,0]),\n",
        "         np.array([0.1,0.219,0.1,0.5,0.5,0.289,0.1,0,0]),\n",
        "          np.array([0.85,0.813,0.1,0.5,0.1,0.403,0.5,0,0]),\n",
        "          np.array([0.85,0.813,0.5,0.5,0.5,0.403,0.1,0,0]),\n",
        "          np.array([0.85,0.813,0.1,0.5,0.5,0.403,0.1,0,0]),\n",
        "          np.array([1,0.813,0.5,0.1,0.5,0.192,0.1,0,0]),\n",
        "          np.array([1,0.813,0.1,0.1,0.5,0.192,0.1,0,0]),\n",
        "          np.array([0.25,0.406,0.1,0.1,0.1,0.365,0.1,0,0]),\n",
        "          np.array([0.25,0.406,0.5,0.1,0.5,0.365,0.1,0,0]),\n",
        "          np.array([0.2,0.329,0.1,0.5,0.1,0.464,0.5,0,0]),\n",
        "          np.array([0.2,0.329,0.1,0.5,0.1,0.464,0.1,0,0]),\n",
        "          np.array([0.1,0.219,0.1,0.5,0.5,0.289,0.5,0,0]),\n",
        "          np.array([0.1,0.219,0.5,0.1,0.1,0.289,0.1,0,0]),\n",
        "          np.array([1.25,0.559,0.5,0.5,0.1,0.107,0.5,0,0]), \n",
        "          np.array([1.25,0.559,0.5,0.5,0.1,0.107,0.5,0,0]),\n",
        "          np.array([1.25,0.559,0.5,0.5,0.5,0.107,0.1,0,0]),\n",
        "          np.array([0.85,0.559,0.5,0.1,0.1,0.306,0.1,0,0]),\n",
        "          np.array([0.85,0.559,0.5,0.5,0.5,0.306,0.1,0,0]), \n",
        "         np.array([0.9,0.508,0.1,0.5,0.5,0.464,0.5,0,0]),\n",
        "         np.array([0.9,0.508,0.5,0.1,0.5,0.107,0.1,0,0]),\n",
        "         np.array([0.9,0.508,0.1,0.5,0.1,0.107,0.1,0,0])]\n",
        "         \n",
        "_ = view_samples(faces, 5, 5)"
      ]
    },
    {
      "cell_type": "markdown",
      "metadata": {
        "id": "p6PhUOWpHoUb"
      },
      "source": [
        "# Examples of noise\n",
        "The following are randomly generated images, which don't correspond to faces."
      ]
    },
    {
      "cell_type": "code",
      "execution_count": null,
      "metadata": {
        "id": "2ft8QB5zHoUc",
        "outputId": "60ee2d7b-d65d-4ff3-acfd-b159b3bb7891"
      },
      "outputs": [
        {
          "data": {
            "image/png": "[encoded data removed]",
            "text/plain": [
              "<Figure size 720x720 with 100 Axes>"
            ]
          },
          "metadata": {
            "needs_background": "light"
          },
          "output_type": "display_data"
        }
      ],
      "source": [
        "# Examples of noisy images\n",
        "noise = [np.random.randn(3,3) for i in range(100)]\n",
        "def generate_random_image():\n",
        "    return [np.random.random(), np.random.random(), np.random.random(), np.random.random()]\n",
        "\n",
        "_ = view_samples(noise, 10,10)"
      ]
    },
    {
      "cell_type": "markdown",
      "metadata": {
        "id": "5vpEKUYQHoUc"
      },
      "source": [
        "# Building the neural networks"
      ]
    },
    {
      "cell_type": "code",
      "execution_count": null,
      "metadata": {
        "id": "eYvlfHSKHoUd"
      },
      "outputs": [],
      "source": [
        "# The sigmoid activation function\n",
        "def sigmoid(x):\n",
        "    return np.exp(x)/(1.0+np.exp(x))"
      ]
    },
    {
      "cell_type": "markdown",
      "metadata": {
        "id": "N7xb2pcKHoUd"
      },
      "source": [
        "## The Discriminator\n",
        "\n",
        "<img src=\"discriminator_math.png\" />"
      ]
    },
    {
      "cell_type": "code",
      "execution_count": null,
      "metadata": {
        "id": "ZBjRGQgRHoUd"
      },
      "outputs": [],
      "source": [
        "class Discriminator():\n",
        "    def __init__(self):\n",
        "        #self.weights = np.array([0.0 for i in range(4)])\n",
        "        #self.bias = 0.0\n",
        "        self.weights = np.array([np.random.normal() for i in range(9)])\n",
        "        self.bias = np.random.normal()\n",
        "    \n",
        "    def forward(self, x):\n",
        "        # Forward pass\n",
        "        return sigmoid(np.dot(x, self.weights) + self.bias)\n",
        "    \n",
        "    def error_from_image(self, image):\n",
        "        prediction = self.forward(image)\n",
        "        # We want the prediction to be 1, so the error is -log(prediction)\n",
        "        return -np.log(prediction)\n",
        "    \n",
        "    def derivatives_from_image(self, image):\n",
        "        prediction = self.forward(image)\n",
        "        derivatives_weights = -image * (1-prediction)\n",
        "        derivative_bias = -(1-prediction)\n",
        "        return derivatives_weights, derivative_bias\n",
        "    \n",
        "    def update_from_image(self, x):\n",
        "        ders = self.derivatives_from_image(x)\n",
        "        self.weights -= learning_rate * ders[0]\n",
        "        self.bias -= learning_rate * ders[1]\n",
        "\n",
        "    def error_from_noise(self, noise):\n",
        "        prediction = self.forward(noise)\n",
        "        # We want the prediction to be 0, so the error is -log(1-prediction)\n",
        "        return -np.log(1-prediction)\n",
        "    \n",
        "    def derivatives_from_noise(self, noise):\n",
        "        prediction = self.forward(noise)\n",
        "        derivatives_weights = noise * prediction\n",
        "        derivative_bias = prediction\n",
        "        return derivatives_weights, derivative_bias\n",
        "    \n",
        "    def update_from_noise(self, noise):\n",
        "        ders = self.derivatives_from_noise(noise)\n",
        "        self.weights -= learning_rate * ders[0]\n",
        "        self.bias -= learning_rate * ders[1]"
      ]
    },
    {
      "cell_type": "markdown",
      "metadata": {
        "id": "ihaaHMvNHoUd"
      },
      "source": [
        "## The Generator\n",
        "<img src=\"generator_math.png\" />"
      ]
    },
    {
      "cell_type": "code",
      "execution_count": null,
      "metadata": {
        "id": "u84N4mfPHoUe"
      },
      "outputs": [],
      "source": [
        "class Generator():\n",
        "    def __init__(self):\n",
        "        self.weights = np.array([np.random.normal() for i in range(9)])\n",
        "        self.biases = np.array([np.random.normal() for i in range(9)])\n",
        "\n",
        "    def forward(self, z):\n",
        "        # Forward pass\n",
        "        return sigmoid(z * self.weights + self.biases)\n",
        "\n",
        "    def error(self, z, discriminator):\n",
        "        x = self.forward(z)\n",
        "        # We want the prediction to be 0, so the error is -log(1-prediction)\n",
        "        y = discriminator.forward(x)\n",
        "        return -np.log(y)\n",
        "\n",
        "    def derivatives(self, z, discriminator):\n",
        "        discriminator_weights = discriminator.weights\n",
        "        discriminator_bias = discriminator.bias\n",
        "        x = self.forward(z)\n",
        "        y = discriminator.forward(x)\n",
        "        factor = -(1-y) * discriminator_weights * x *(1-x)\n",
        "        derivatives_weights = factor * z\n",
        "        derivative_bias = factor\n",
        "        return derivatives_weights, derivative_bias\n",
        "\n",
        "    def update(self, z, discriminator):\n",
        "        error_before = self.error(z, discriminator)\n",
        "        ders = self.derivatives(z, discriminator)\n",
        "        self.weights -= learning_rate * ders[0]\n",
        "        self.biases -= learning_rate * ders[1]\n",
        "        error_after = self.error(z, discriminator)"
      ]
    },
    {
      "cell_type": "markdown",
      "metadata": {
        "id": "lCeMKXafHoUe"
      },
      "source": [
        "# Training"
      ]
    },
    {
      "cell_type": "code",
      "execution_count": null,
      "metadata": {
        "id": "QAkenNewHoUe"
      },
      "outputs": [],
      "source": [
        "# Set random seed\n",
        "np.random.seed(42)\n",
        "\n",
        "# Hyperparameters\n",
        "learning_rate = 0.01\n",
        "epochs = 1500\n",
        "\n",
        "# The GAN\n",
        "D = Discriminator()\n",
        "G = Generator()\n",
        "\n",
        "# For the error plot\n",
        "errors_discriminator = []\n",
        "errors_generator = []\n",
        "\n",
        "for epoch in range(epochs):\n",
        "    \n",
        "    for face in faces:\n",
        "        \n",
        "        # Update the discriminator weights from the real face\n",
        "        D.update_from_image(face)\n",
        "    \n",
        "        # Pick a random number to generate a fake face\n",
        "        z = random.rand()\n",
        "\n",
        "        # Calculate the discriminator error\n",
        "        errors_discriminator.append(sum(D.error_from_image(face) + D.error_from_noise(z)))\n",
        "        \n",
        "        # Calculate the generator error\n",
        "        errors_generator.append(G.error(z, D))\n",
        "        \n",
        "        # Build a fake face\n",
        "        noise = G.forward(z)\n",
        "        \n",
        "        # Update the discriminator weights from the fake face\n",
        "        D.update_from_noise(noise)\n",
        "    \n",
        "        # Update the generator weights from the fake face\n",
        "        G.update(z, D)"
      ]
    },
    {
      "cell_type": "code",
      "execution_count": null,
      "metadata": {
        "scrolled": true,
        "id": "zkJbP9V5HoUe",
        "outputId": "72253fa0-3a07-4fc2-8f68-7a1525df6683"
      },
      "outputs": [
        {
          "data": {
            "image/png": "[encoded data removed]",
            "text/plain": [
              "<Figure size 432x288 with 1 Axes>"
            ]
          },
          "metadata": {
            "needs_background": "light"
          },
          "output_type": "display_data"
        },
        {
          "data": {
            "text/plain": [
              "Text(0.5, 1.0, 'Discriminator error function')"
            ]
          },
          "execution_count": 80,
          "metadata": {},
          "output_type": "execute_result"
        },
        {
          "data": {
            "image/png": "[encoded data removed]",
            "text/plain": [
              "<Figure size 432x288 with 1 Axes>"
            ]
          },
          "metadata": {
            "needs_background": "light"
          },
          "output_type": "display_data"
        }
      ],
      "source": [
        "import matplotlib.pyplot as plt\n",
        "plt.plot(errors_generator)\n",
        "plt.title(\"Generator error function\")\n",
        "plt.legend(\"gen\")\n",
        "plt.show()\n",
        "plt.plot(errors_discriminator)\n",
        "plt.legend('disc')\n",
        "plt.title(\"Discriminator error function\")"
      ]
    },
    {
      "cell_type": "markdown",
      "metadata": {
        "id": "iqK76IjFHoUe"
      },
      "source": [
        "# Generating images"
      ]
    },
    {
      "cell_type": "code",
      "execution_count": null,
      "metadata": {
        "id": "SdWOLnozHoUf",
        "outputId": "45013f9a-21c1-40b9-a483-4355254d98fb"
      },
      "outputs": [
        {
          "name": "stdout",
          "output_type": "stream",
          "text": [
            "[0.67822315 0.49806112 0.37886546 0.48338734 0.35306211 0.29272362\n",
            " 0.26877829 0.00210071 0.00180465]\n",
            "[7.24606964e-01 3.74602331e-01 3.94387322e-01 3.04647900e-01\n",
            " 2.29728816e-01 2.31688956e-01 1.65971584e-01 9.62814957e-04\n",
            " 4.36540974e-04]\n",
            "[0.66627222 0.52888979 0.37510562 0.52973743 0.3874991  0.30900721\n",
            " 0.29927231 0.00254189 0.0025524 ]\n",
            "[0.65189042 0.56497075 0.37068805 0.58372196 0.42960622 0.32884928\n",
            " 0.33767371 0.00318275 0.00384094]\n",
            "[0.70370346 0.43059625 0.38719066 0.38346884 0.28276168 0.25872832\n",
            " 0.20898113 0.00138058 0.00084094]\n",
            "[7.11682411e-01 4.09218409e-01 3.89895073e-01 3.52788891e-01\n",
            " 2.61945755e-01 2.48309981e-01 1.91888449e-01 1.20539439e-03\n",
            " 6.56985906e-04]\n",
            "[0.6732988  0.51084565 0.37730589 0.50260199 0.36716864 0.29940919\n",
            " 0.28117203 0.00227338 0.00208345]\n",
            "[0.70363661 0.43077514 0.38716821 0.38372816 0.28293884 0.2588161\n",
            " 0.20912779 0.00138213 0.00084267]\n",
            "[7.19964728e-01 3.87019918e-01 3.92757208e-01 3.21673574e-01\n",
            " 2.41074391e-01 2.37621368e-01 1.75024625e-01 1.04450657e-03\n",
            " 5.06252667e-04]\n",
            "[0.67860628 0.49706206 0.37898743 0.48188729 0.3519702  0.29220493\n",
            " 0.26782456 0.00208779 0.0017845 ]\n",
            "[0.69616035 0.45073887 0.38467874 0.4129009  0.30301865 0.26868138\n",
            " 0.22588072 0.00156647 0.00105821]\n",
            "[0.65814634 0.54942762 0.37259601 0.5605424  0.41123179 0.32018727\n",
            " 0.32076309 0.00288788 0.00321887]\n",
            "[0.64531945 0.58102207 0.36870541 0.60747212 0.44894877 0.33799509\n",
            " 0.35573603 0.00352176 0.00461629]\n",
            "[7.38586438e-01 3.37476731e-01 3.99417233e-01 2.55623483e-01\n",
            " 1.97212144e-01 2.14092090e-01 1.40465299e-01 7.49393859e-04\n",
            " 2.76721026e-04]\n",
            "[0.67379464 0.50956326 0.37746226 0.50067347 0.36574246 0.29873445\n",
            " 0.27991289 0.00225544 0.00205364]\n",
            "[0.67168736 0.51500531 0.37679873 0.50885827 0.37181184 0.3016044\n",
            " 0.28528096 0.00233259 0.00218319]\n",
            "[7.37865094e-01 3.39378575e-01 3.99153013e-01 2.58060766e-01\n",
            " 1.98826943e-01 2.14989921e-01 1.41716670e-01 7.59304544e-04\n",
            " 2.83414264e-04]\n",
            "[7.15512608e-01 3.98949120e-01 3.91211506e-01 3.38292346e-01\n",
            " 2.52196347e-01 2.43350646e-01 1.83977057e-01 1.12847826e-03\n",
            " 5.82720833e-04]\n",
            "[0.70195532 0.4352723  0.38660474 0.39026029 0.2874086  0.26102619\n",
            " 0.21283456 0.00142183 0.00088721]\n",
            "[7.12800620e-01 4.06220204e-01 3.90278149e-01 3.48539182e-01\n",
            " 2.59082580e-01 2.46859264e-01 1.89558855e-01 1.18247752e-03\n",
            " 6.34439789e-04]\n",
            "[7.13797069e-01 4.03548479e-01 3.90620377e-01 3.44764122e-01\n",
            " 2.56542825e-01 2.45568494e-01 1.87496730e-01 1.16237922e-03\n",
            " 6.14958938e-04]\n",
            "[7.18784650e-01 3.90180462e-01 3.92345848e-01 3.26052372e-01\n",
            " 2.43999801e-01 2.39136217e-01 1.77371897e-01 1.06621330e-03\n",
            " 5.25555110e-04]\n",
            "[0.64988579 0.56989832 0.37008093 0.59103602 0.43550478 0.33163442\n",
            " 0.34315332 0.00328288 0.0040633 ]\n",
            "[0.68511343 0.48000658 0.38107318 0.45633638 0.33356456 0.28342875\n",
            " 0.25186809 0.00187883 0.00147304]\n",
            "[0.6733298  0.51076551 0.37731566 0.50248146 0.36707944 0.29936699\n",
            " 0.28109323 0.00227226 0.00208158]\n",
            "[0.65023916 0.56903162 0.37018781 0.58975094 0.43446475 0.33114313\n",
            " 0.34218535 0.00326502 0.00402324]\n",
            "[0.68509039 0.48006724 0.38106575 0.45642703 0.33362924 0.28345971\n",
            " 0.25192377 0.00187954 0.00147404]\n",
            "[0.7049152  0.42735284 0.38759817 0.37877412 0.27955825 0.2571387\n",
            " 0.20633275 0.00135261 0.0008102 ]\n",
            "[0.66143315 0.5411657  0.37360674 0.54816833 0.40160935 0.31565509\n",
            " 0.31200227 0.00274311 0.00293157]\n",
            "[0.67432932 0.50817916 0.37763104 0.49859218 0.36420596 0.29800724\n",
            " 0.27855789 0.00223623 0.00202194]\n",
            "[0.7071087  0.42147798 0.38833872 0.37030546 0.27379706 0.25426785\n",
            " 0.20158624 0.00130325 0.00075722]\n",
            "[0.70138073 0.43680836 0.38641266 0.39249698 0.28894244 0.26178265\n",
            " 0.21410952 0.00143562 0.00090293]\n",
            "[7.28474950e-01 3.64281991e-01 3.95760432e-01 2.90725850e-01\n",
            " 2.20478895e-01 2.26779187e-01 1.58649730e-01 8.99058735e-04\n",
            " 3.85385740e-04]\n",
            "[7.21368469e-01 3.83262159e-01 3.93248116e-01 3.16490888e-01\n",
            " 2.37616121e-01 2.35822975e-01 1.72256676e-01 1.01918944e-03\n",
            " 4.84151536e-04]\n",
            "[7.37185985e-01 3.41170721e-01 3.98904746e-01 2.60365166e-01\n",
            " 2.00353622e-01 2.15836217e-01 1.42901214e-01 7.68738243e-04\n",
            " 2.89852222e-04]\n",
            "[0.70309769 0.43221703 0.38698737 0.38581982 0.28436855 0.25952397\n",
            " 0.21031206 0.00139475 0.00085671]\n",
            "[7.12720083e-01 4.06436145e-01 3.90250524e-01 3.48844793e-01\n",
            " 2.59288334e-01 2.46963671e-01 1.89726093e-01 1.18411518e-03\n",
            " 6.36039189e-04]\n",
            "[7.27721752e-01 3.66289342e-01 3.95491968e-01 2.93416877e-01\n",
            " 2.22265301e-01 2.27732844e-01 1.60059660e-01 9.11177301e-04\n",
            " 3.94887898e-04]\n",
            "[7.25849892e-01 3.71282982e-01 3.94827055e-01 3.00146844e-01\n",
            " 2.26735994e-01 2.30107935e-01 1.63596807e-01 9.41911901e-04\n",
            " 4.19453182e-04]\n",
            "[7.14622026e-01 4.01336674e-01 3.90904329e-01 3.41647569e-01\n",
            " 2.54448572e-01 2.44501291e-01 1.85799374e-01 1.14596732e-03\n",
            " 5.99254433e-04]\n",
            "[0.69371533 0.45724463 0.38387342 0.42249671 0.30969477 0.27192834\n",
            " 0.23150843 0.00163131 0.00113924]\n",
            "[0.67110997 0.51649275 0.37661739 0.51109558 0.37347853 0.30239184\n",
            " 0.28675947 0.00235415 0.00222001]\n",
            "[7.29240549e-01 3.62242849e-01 3.96033859e-01 2.88000738e-01\n",
            " 2.18670493e-01 2.25811031e-01 1.57224442e-01 8.86884471e-04\n",
            " 3.75945002e-04]\n",
            "[7.20020210e-01 3.86871356e-01 3.92776579e-01 3.21468188e-01\n",
            " 2.40937258e-01 2.37550214e-01 1.74914724e-01 1.04349559e-03\n",
            " 5.05361605e-04]\n",
            "[7.25659145e-01 3.71792214e-01 3.94759479e-01 3.00835952e-01\n",
            " 2.27194038e-01 2.30350364e-01 1.63959902e-01 9.45093891e-04\n",
            " 4.22034551e-04]\n",
            "[0.65754187 0.55094005 0.37241076 0.56280413 0.41300418 0.32102221\n",
            " 0.32238386 0.00291525 0.00327453]\n",
            "[0.67531614 0.50562121 0.377943   0.49474642 0.36137399 0.29666615\n",
            " 0.27606467 0.00220116 0.00196465]\n",
            "[0.68630716 0.47686121 0.3814588  0.45163945 0.33021877 0.28182577\n",
            " 0.24899171 0.00184259 0.00142177]\n",
            "[7.25699855e-01 3.71683525e-01 3.94773899e-01 3.00688829e-01\n",
            " 2.27096242e-01 2.30298617e-01 1.63882367e-01 9.44413991e-04\n",
            " 4.21482387e-04]\n",
            "[7.30660094e-01 3.58465516e-01 3.96542300e-01 2.82975729e-01\n",
            " 2.15337337e-01 2.24019131e-01 1.54602697e-01 8.64689913e-04\n",
            " 3.59005766e-04]\n",
            "[0.67229416 0.5134404  0.37698953 0.5065045  0.37006196 0.30077735\n",
            " 0.2837307  0.00231014 0.00214511]\n",
            "[7.11586078e-01 4.09476695e-01 3.89862120e-01 3.53155640e-01\n",
            " 2.62193055e-01 2.48435068e-01 1.92089905e-01 1.20738677e-03\n",
            " 6.58962796e-04]\n",
            "[0.65099592 0.56717277 0.3704169  0.58699277 0.43223782 0.3300915\n",
            " 0.34011532 0.00322708 0.0039387 ]\n",
            "[0.68479034 0.48085707 0.38096897 0.45760735 0.33447184 0.28386299\n",
            " 0.25264936 0.00188875 0.00148721]\n",
            "[0.69238709 0.46077289 0.38343771 0.42771659 0.31334264 0.27369637\n",
            " 0.2345957  0.00166753 0.00118566]\n",
            "[7.18997957e-01 3.89609081e-01 3.92420115e-01 3.25259428e-01\n",
            " 2.43469795e-01 2.38862196e-01 1.76946238e-01 1.06226072e-03\n",
            " 5.22016109e-04]\n",
            "[7.30577390e-01 3.58685456e-01 3.96512625e-01 2.83267489e-01\n",
            " 2.15530818e-01 2.24123414e-01 1.54754696e-01 8.65969637e-04\n",
            " 3.59972908e-04]\n",
            "[0.67757614 0.4997469  0.3786597  0.48591908 0.35490799 0.29360005\n",
            " 0.27039241 0.00212271 0.00183916]\n",
            "[0.69639213 0.45012146 0.38475531 0.41199231 0.30238845 0.2683741\n",
            " 0.22535099 0.00156045 0.00105081]\n",
            "[0.70789586 0.41936879 0.38860539 0.36727646 0.27174164 0.25323974\n",
            " 0.19989793 0.00128592 0.00073901]\n",
            "[0.67671255 0.50199419 0.37838546 0.48929523 0.35737545 0.2947708\n",
            " 0.27255364 0.00215238 0.00188619]\n",
            "[7.38956275e-01 3.36502364e-01 3.99552905e-01 2.54378077e-01\n",
            " 1.96386963e-01 2.13632208e-01 1.39826449e-01 7.44356072e-04\n",
            " 2.73346370e-04]\n",
            "[7.29109746e-01 3.62591144e-01 3.95987105e-01 2.88465586e-01\n",
            " 2.18978927e-01 2.25976354e-01 1.57467391e-01 8.88954239e-04\n",
            " 3.77542595e-04]\n",
            "[0.67345841 0.51043297 0.37735621 0.50198137 0.36670942 0.29919195\n",
            " 0.28076644 0.00226759 0.00207381]\n",
            "[0.69446566 0.45524958 0.38412011 0.41954994 0.30764056 0.27093085\n",
            " 0.22977372 0.00161117 0.00111377]\n",
            "[0.66679856 0.52754686 0.37526944 0.52771893 0.38596915 0.30828595\n",
            " 0.29790032 0.00252083 0.00251407]\n",
            "[0.6951047  0.45354943 0.38433052 0.41704158 0.30589482 0.27008206\n",
            " 0.22830167 0.00159418 0.00109251]\n",
            "[7.11293926e-01 4.10260006e-01 3.89762225e-01 3.54268512e-01\n",
            " 2.62943677e-01 2.48814532e-01 1.92701612e-01 1.21344690e-03\n",
            " 6.64992231e-04]\n",
            "[0.65180014 0.56519322 0.37066067 0.58405258 0.42987178 0.32897461\n",
            " 0.33791987 0.0031872  0.0038507 ]\n",
            "[7.28595983e-01 3.63959539e-01 3.95803621e-01 2.90294350e-01\n",
            " 2.20192508e-01 2.26626052e-01 1.58423881e-01 8.97124508e-04\n",
            " 3.83878766e-04]\n",
            "[0.70276688 0.43310197 0.38687646 0.38710481 0.2852476  0.25995875\n",
            " 0.21104085 0.00140254 0.00086544]\n",
            "[7.39316425e-01 3.35553997e-01 3.99685158e-01 2.53168048e-01\n",
            " 1.95585181e-01 2.13184659e-01 1.39206112e-01 7.39478365e-04\n",
            " 2.70096728e-04]\n",
            "[0.64552397 0.58052692 0.3687668  0.60674292 0.44834658 0.33770973\n",
            " 0.35516962 0.00351073 0.00459006]\n",
            "[7.25072476e-01 3.73358832e-01 3.94551850e-01 3.02959166e-01\n",
            " 2.28605668e-01 2.31096452e-01 1.65079726e-01 9.54939327e-04\n",
            " 4.30066744e-04]\n",
            "[7.21436082e-01 3.83081217e-01 3.93271805e-01 3.16241988e-01\n",
            " 2.37450146e-01 2.35736451e-01 1.72124019e-01 1.01798366e-03\n",
            " 4.83110013e-04]\n",
            "[0.65672011 0.5529926  0.37215924 0.56587165 0.41541491 0.32215799\n",
            " 0.32459193 0.00295283 0.00335166]\n",
            "[0.67737757 0.50026391 0.3785966  0.4866957  0.35547498 0.29386916\n",
            " 0.27088867 0.0021295  0.00184987]\n",
            "[7.29927808e-01 3.60413492e-01 3.96279778e-01 2.85563373e-01\n",
            " 2.17053534e-01 2.24942975e-01 1.55951745e-01 8.76078176e-04\n",
            " 3.67653531e-04]\n",
            "[0.69548929 0.45252577 0.38445729 0.4155326  0.30484586 0.26957155\n",
            " 0.22741811 0.00158404 0.00107989]\n",
            "[0.68396728 0.483022   0.38070382 0.46084434 0.33678634 0.28496991\n",
            " 0.25464487 0.00191422 0.00152389]\n",
            "[7.31798928e-01 3.55438722e-01 3.96951585e-01 2.78971079e-01\n",
            " 2.12682158e-01 2.22584622e-01 1.52519111e-01 8.47234440e-04\n",
            " 3.45931065e-04]\n",
            "[0.65261563 0.56318161 0.3709082  0.5810618  0.42747324 0.32784281\n",
            " 0.33569834 0.00314722 0.00376338]\n",
            "[0.69105965 0.46429448 0.3830035  0.43293688 0.3170027  0.27546621\n",
            " 0.23770201 0.00170443 0.00123383]\n",
            "[0.70836371 0.41811501 0.38876411 0.36547885 0.27052306 0.25262921\n",
            " 0.19889827 0.00127572 0.00072838]\n",
            "[0.70418515 0.42930713 0.38735252 0.38160128 0.28148651 0.2580961\n",
            " 0.20792612 0.0013694  0.00082859]\n",
            "[0.67020353 0.51882457 0.37633309 0.51460292 0.37609807 0.30362895\n",
            " 0.28908706 0.00238834 0.00227899]\n",
            "[0.69983735 0.44093181 0.38589795 0.39851469 0.29307788 0.26381735\n",
            " 0.21755453 0.00147326 0.00094646]\n",
            "[7.13668926e-01 4.03892057e-01 3.90576321e-01 3.45248949e-01\n",
            " 2.56868817e-01 2.45734382e-01 1.87761188e-01 1.16494695e-03\n",
            " 6.17432529e-04]\n",
            "[0.70191566 0.43537834 0.38659148 0.3904146  0.28751436 0.26107838\n",
            " 0.21292243 0.00142277 0.00088829]\n",
            "[7.11400539e-01 4.09974161e-01 3.89798671e-01 3.53862295e-01\n",
            " 2.62669651e-01 2.48676039e-01 1.92478258e-01 1.21123234e-03\n",
            " 6.62786020e-04]\n",
            "[0.66937034 0.52096434 0.3760722  0.51782122 0.37850908 0.30476707\n",
            " 0.29123353 0.00242017 0.00233452]\n",
            "[7.25196180e-01 3.73028448e-01 3.94595604e-01 3.02510999e-01\n",
            " 2.28307657e-01 2.30939075e-01 1.64843216e-01 9.52855936e-04\n",
            " 4.28361365e-04]\n",
            "[0.68875592 0.47039456 0.38225281 0.44200186 0.32338771 0.27854447\n",
            " 0.243142   0.00177021 0.00132181]\n",
            "[7.39105669e-01 3.36108915e-01 3.99607749e-01 2.53875814e-01\n",
            " 1.96054162e-01 2.13446525e-01 1.39568914e-01 7.42329390e-04\n",
            " 2.71994022e-04]\n",
            "[0.64528143 0.58111409 0.368694   0.60760761 0.44906072 0.33804815\n",
            " 0.35584135 0.00352382 0.00462118]\n",
            "[0.68188101 0.48849879 0.38003369 0.46904335 0.34267351 0.28778034\n",
            " 0.2597367  0.00198017 0.00162073]\n",
            "[0.66163661 0.5406522  0.3736695  0.54739832 0.40101463 0.31537498\n",
            " 0.31146293 0.00273436 0.00291461]\n",
            "[0.6990932  0.44291857 0.38565041 0.40142093 0.29507978 0.26479987\n",
            " 0.21922615 0.00149172 0.00096814]\n",
            "[0.66805976 0.52432306 0.37566264 0.52287215 0.38230744 0.30655919\n",
            " 0.29462319 0.002471   0.00242445]\n",
            "[7.16376543e-01 3.96633295e-01 3.91510129e-01 3.35046975e-01\n",
            " 2.50020148e-01 2.42235881e-01 1.82219276e-01 1.11173647e-03\n",
            " 5.67089105e-04]\n"
          ]
        },
        {
          "data": {
            "image/png": "[encoded data removed]",
            "text/plain": [
              "<Figure size 720x720 with 100 Axes>"
            ]
          },
          "metadata": {
            "needs_background": "light"
          },
          "output_type": "display_data"
        }
      ],
      "source": [
        "generated_images = []\n",
        "for i in range(100):\n",
        "    z = random.random()\n",
        "    generated_image = G.forward(z)\n",
        "    generated_images.append(generated_image)\n",
        "_ = view_samples(generated_images, 10, 10)\n",
        "for i in generated_images:\n",
        "    print(i)"
      ]
    },
    {
      "cell_type": "markdown",
      "metadata": {
        "id": "It5kiMinHoUf"
      },
      "source": [
        "# Studying the weights and biases of the Generator and Discriminator"
      ]
    },
    {
      "cell_type": "code",
      "execution_count": null,
      "metadata": {
        "id": "6gWgXvvDHoUf",
        "outputId": "9b7155a7-dc82-461c-8a8e-a0d7de869af6"
      },
      "outputs": [
        {
          "name": "stdout",
          "output_type": "stream",
          "text": [
            "Generator weights [ 0.45953513 -1.04574237  0.13561434 -1.5720025  -1.2518168  -0.65592345\n",
            " -1.27125845 -1.6186658  -2.94311771]\n",
            "Generator biases [ 0.5876614   0.35169896 -0.54098147  0.47387153 -0.17531755 -0.6567311\n",
            " -0.56385839 -5.60698941 -5.30394246]\n"
          ]
        }
      ],
      "source": [
        "print(\"Generator weights\", G.weights)\n",
        "print(\"Generator biases\", G.biases)"
      ]
    },
    {
      "cell_type": "code",
      "execution_count": null,
      "metadata": {
        "id": "DtGXL9dxHoUf",
        "outputId": "280d53b7-e3ba-4afe-d041-a3d0ef6e246f"
      },
      "outputs": [
        {
          "name": "stdout",
          "output_type": "stream",
          "text": [
            "Discriminator weights [-0.05215561  0.13769971 -0.27919301  0.22558907 -0.02150789 -0.22710499\n",
            "  0.18636659 -2.97827527 -3.40464341]\n",
            "Discriminator bias 0.006930088378871457\n"
          ]
        }
      ],
      "source": [
        "print(\"Discriminator weights\", D.weights)\n",
        "print(\"Discriminator bias\", D.bias)"
      ]
    },
    {
      "cell_type": "code",
      "execution_count": null,
      "metadata": {
        "id": "jtHUvejmHoUf"
      },
      "outputs": [],
      "source": [
        ""
      ]
    },
    {
      "cell_type": "code",
      "execution_count": null,
      "metadata": {
        "id": "FIdlnqewHoUf"
      },
      "outputs": [],
      "source": [
        ""
      ]
    }
  ],
  "metadata": {
    "kernelspec": {
      "display_name": "Python 3 (ipykernel)",
      "language": "python",
      "name": "python3"
    },
    "language_info": {
      "codemirror_mode": {
        "name": "ipython",
        "version": 3
      },
      "file_extension": ".py",
      "mimetype": "text/x-python",
      "name": "python",
      "nbconvert_exporter": "python",
      "pygments_lexer": "ipython3",
      "version": "3.8.1"
    },
    "colab": {
      "name": "GANs for bubble data expasion.ipynb",
      "provenance": [],
      "include_colab_link": true
    }
  },
  "nbformat": 4,
  "nbformat_minor": 0
}